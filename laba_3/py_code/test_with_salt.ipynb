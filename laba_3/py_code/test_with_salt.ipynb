{
 "cells": [
  {
   "cell_type": "markdown",
   "metadata": {},
   "source": [
    "Знаем:\n",
    "1. соль\n",
    "2. алгоритм (md5)\n",
    "3. длина номера телефона 11 символов (начинается на 89)\n",
    "4. идея:\n",
    "начать прогонять параллельно числа от 000_000_000 до 999_999_999\n",
    "складывать их с солью\n",
    "искать их хэш\n",
    "искать хэш в таблице\n",
    "вставлять в нужный столбец найденный номер без соли"
   ]
  },
  {
   "cell_type": "code",
   "execution_count": null,
   "metadata": {},
   "outputs": [],
   "source": [
    "import hashlib\n",
    "from itertools import product\n",
    "from multiprocessing import Pool, cpu_count"
   ]
  },
  {
   "cell_type": "code",
   "execution_count": null,
   "metadata": {},
   "outputs": [],
   "source": [
    "charset = '0123456789'\n",
    "salt = 116193795"
   ]
  },
  {
   "cell_type": "code",
   "execution_count": null,
   "metadata": {},
   "outputs": [],
   "source": [
    "def run_md5(string,salt):\n",
    "    \n",
    "    h = hashlib.md5(string.encode()).hexdigest()\n",
    "    return h\n"
   ]
  }
 ],
 "metadata": {
  "language_info": {
   "name": "python"
  }
 },
 "nbformat": 4,
 "nbformat_minor": 2
}
