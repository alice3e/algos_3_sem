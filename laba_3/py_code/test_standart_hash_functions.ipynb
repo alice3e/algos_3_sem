{
 "cells": [
  {
   "cell_type": "code",
   "execution_count": 9,
   "metadata": {},
   "outputs": [],
   "source": [
    "import hashlib\n",
    "import logging\n",
    "from typing import Callable, List\n",
    "from itertools import product\n",
    "from multiprocessing import Pool, cpu_count\n",
    "import sys\n",
    "\n",
    "logging.basicConfig(\n",
    "    filename='salt_checked.log',  # Имя лог-файла\n",
    "    filemode='a',        # 'a' для добавления записей в файл, 'w' для перезаписи файла\n",
    "    format='%(asctime)s - %(levelname)s - %(message)s',  # Формат логов\n",
    "    level=logging.INFO   # Уровень логирования: DEBUG, INFO, WARNING, ERROR, CRITICAL\n",
    ")\n",
    "\n",
    "hash_functions = {\n",
    "    'md5': hashlib.md5,\n",
    "    'sha1': hashlib.sha1,\n",
    "    'sha224': hashlib.sha224,\n",
    "    'sha256': hashlib.sha256,\n",
    "    'sha384': hashlib.sha384,\n",
    "    'sha512': hashlib.sha512,\n",
    "    'blake2b': hashlib.blake2b,\n",
    "    'blake2s': hashlib.blake2s,\n",
    "}"
   ]
  },
  {
   "cell_type": "code",
   "execution_count": 31,
   "metadata": {},
   "outputs": [],
   "source": [
    "def salt_generator(min_length=int,max_length=int, type=int) -> list[str]:\n",
    "    match type:\n",
    "        case 0:\n",
    "            charset = '0123456789'  # Только цифры\n",
    "        case 1:\n",
    "            charset = 'abcdefghijklmnopqrstuvwxyzABCDEFGHIJKLMNOPQRSTUVWXYZ'  # Только буквы\n",
    "        case 2:\n",
    "            charset = '0123456789abcdefghijklmnopqrstuvwxyzABCDEFGHIJKLMNOPQRSTUVWXYZ'  # Цифры + буквы\n",
    "        case _:\n",
    "            raise ValueError(\"Недопустимый тип. Используйте 0 (цифры), 1 (буквы), или 2 (цифры и буквы).\")\n",
    "        \n",
    "    out = []\n",
    "    \n",
    "    # Генерация всех возможных комбинаций от min_length до max_length\n",
    "    for length in range(min_length, max_length + 1):\n",
    "        out.extend(''.join(combo) for combo in product(charset, repeat=length))\n",
    "    \n",
    "    return out"
   ]
  },
  {
   "cell_type": "code",
   "execution_count": 32,
   "metadata": {},
   "outputs": [],
   "source": [
    "def mega_salt_list(min_len: int, max_len: int) -> List[str]:\n",
    "    out = []\n",
    "    for i in range(min_len, max_len + 1):\n",
    "        out += salt_generator(min_length=min_len, max_length=i, type=2)\n",
    "    return out"
   ]
  },
  {
   "cell_type": "code",
   "execution_count": 30,
   "metadata": {},
   "outputs": [],
   "source": [
    "def check_hash_function(input_data: str, output_hash: str, salt: str, hash_func):\n",
    "    h = hash_func(input_data.encode()).hexdigest()\n",
    "    if h == output_hash:\n",
    "        logging.info(f'верная соль: \\\"{salt}\\\"')\n",
    "        return True\n",
    "    else:\n",
    "        logging.info(f'неверная соль: \\\"{salt}\\\"')\n",
    "        return False"
   ]
  },
  {
   "cell_type": "code",
   "execution_count": 33,
   "metadata": {},
   "outputs": [],
   "source": [
    "def brute_force_salt_list(input_data, output_hash, salt_list, hash_func):\n",
    "    for salt in salt_list:\n",
    "        if check_hash_function(input_data,output_hash,salt,hash_func):\n",
    "            return True\n",
    "    return False"
   ]
  },
  {
   "cell_type": "code",
   "execution_count": 37,
   "metadata": {},
   "outputs": [
    {
     "name": "stdout",
     "output_type": "stream",
     "text": [
      "Generated 246202 salts.\n",
      "First 10 salts: ['0', '1', '2', '3', '4', '5', '6', '7', '8', '9']\n",
      "Last 10 salts: ['ZZQ', 'ZZR', 'ZZS', 'ZZT', 'ZZU', 'ZZV', 'ZZW', 'ZZX', 'ZZY', 'ZZZ']\n"
     ]
    }
   ],
   "source": [
    "input_data = \"89868999648\"\n",
    "output_hash = \"00f162fae89b11e04f94016fc752ccef\"\n",
    "salt_list = mega_salt_list(min_len=1, max_len=3)\n",
    "\n",
    "\n",
    "# Debugging statements\n",
    "print(f\"Generated {len(salt_list)} salts.\")\n",
    "print(f\"First 10 salts: {salt_list[:10]}\")\n",
    "print(f\"Last 10 salts: {salt_list[-10:]}\")"
   ]
  },
  {
   "cell_type": "code",
   "execution_count": 38,
   "metadata": {},
   "outputs": [
    {
     "data": {
      "text/plain": [
       "False"
      ]
     },
     "execution_count": 38,
     "metadata": {},
     "output_type": "execute_result"
    }
   ],
   "source": [
    "brute_force_salt_list(input_data, output_hash, salt_list, hash_functions['md5'])"
   ]
  },
  {
   "cell_type": "code",
   "execution_count": 17,
   "metadata": {},
   "outputs": [
    {
     "data": {
      "text/plain": [
       "b'123a'"
      ]
     },
     "execution_count": 17,
     "metadata": {},
     "output_type": "execute_result"
    }
   ],
   "source": [
    "s = '123a'\n",
    "s = s.encode('utf-8')\n",
    "s"
   ]
  },
  {
   "cell_type": "code",
   "execution_count": 27,
   "metadata": {},
   "outputs": [
    {
     "data": {
      "text/plain": [
       "584"
      ]
     },
     "execution_count": 27,
     "metadata": {},
     "output_type": "execute_result"
    }
   ],
   "source": [
    "s_h = hashlib.md5(s).hexdigest()\n",
    "sys.getsizeof(s_h) * 8"
   ]
  },
  {
   "cell_type": "code",
   "execution_count": 34,
   "metadata": {},
   "outputs": [
    {
     "ename": "KeyboardInterrupt",
     "evalue": "",
     "output_type": "error",
     "traceback": [
      "\u001b[0;31m---------------------------------------------------------------------------\u001b[0m",
      "\u001b[0;31mKeyboardInterrupt\u001b[0m                         Traceback (most recent call last)",
      "Cell \u001b[0;32mIn[34], line 4\u001b[0m\n\u001b[1;32m      2\u001b[0m hex_needed \u001b[38;5;241m=\u001b[39m \u001b[38;5;124m'\u001b[39m\u001b[38;5;124m48847b4b82f40447582e170d7b3b8e0e\u001b[39m\u001b[38;5;124m'\u001b[39m\n\u001b[1;32m      3\u001b[0m \u001b[38;5;28;01mfor\u001b[39;00m combo \u001b[38;5;129;01min\u001b[39;00m product(charset, repeat\u001b[38;5;241m=\u001b[39m\u001b[38;5;241m11\u001b[39m):\n\u001b[0;32m----> 4\u001b[0m     number \u001b[38;5;241m=\u001b[39m (\u001b[38;5;124m'\u001b[39m\u001b[38;5;124m'\u001b[39m\u001b[38;5;241m.\u001b[39mjoin(combo))\u001b[38;5;241m.\u001b[39mencode(\u001b[38;5;124m'\u001b[39m\u001b[38;5;124mutf-8\u001b[39m\u001b[38;5;124m'\u001b[39m)\n\u001b[1;32m      5\u001b[0m     hex_num \u001b[38;5;241m=\u001b[39m hashlib\u001b[38;5;241m.\u001b[39mmd5(number)\u001b[38;5;241m.\u001b[39mhexdigest()\n\u001b[1;32m      6\u001b[0m     \u001b[38;5;66;03m#print(f'{number} -> {hex_num}')\u001b[39;00m\n",
      "\u001b[0;31mKeyboardInterrupt\u001b[0m: "
     ]
    }
   ],
   "source": [
    "charset = '0123456789'\n",
    "hex_needed = '48847b4b82f40447582e170d7b3b8e0e'\n",
    "for combo in product(charset, repeat=11):\n",
    "    number = (''.join(combo)).encode('utf-8')\n",
    "    hex_num = hashlib.md5(number).hexdigest()\n",
    "    if(hex_num == hex_needed):\n",
    "        print(f'{number} -> {hex_num}')"
   ]
  }
 ],
 "metadata": {
  "kernelspec": {
   "display_name": "base",
   "language": "python",
   "name": "python3"
  },
  "language_info": {
   "codemirror_mode": {
    "name": "ipython",
    "version": 3
   },
   "file_extension": ".py",
   "mimetype": "text/x-python",
   "name": "python",
   "nbconvert_exporter": "python",
   "pygments_lexer": "ipython3",
   "version": "3.12.2"
  }
 },
 "nbformat": 4,
 "nbformat_minor": 2
}
